{
 "cells": [
  {
   "cell_type": "code",
   "execution_count": 1,
   "metadata": {},
   "outputs": [],
   "source": [
    "# Dependencies\n",
    "import requests\n",
    "import json\n",
    "import pandas as pd\n",
    "\n",
    "# Google API Key\n",
    "from config import gkey\n",
    "from pprint import pprint"
   ]
  },
  {
   "cell_type": "code",
   "execution_count": 2,
   "metadata": {},
   "outputs": [],
   "source": [
    "# read in the csv of winery_final\n",
    "winery_data = pd.read_csv(\"../../../Data/csv/Cal_Addr_All_Clean.csv\",dtype=\"object\", encoding=\"utf-8\")"
   ]
  },
  {
   "cell_type": "code",
   "execution_count": 3,
   "metadata": {},
   "outputs": [
    {
     "output_type": "execute_result",
     "data": {
      "text/plain": [
       "  PERMIT NUMBER                              OWNER NAME       OPERATING NAME  \\\n",
       "0      CA-W-685                   DOMAINE CHANDON, INC.      DOMAINE CHANDON   \n",
       "1    CA-W-23853  VAN ZYL FAMILY LLC DBA BELONG WINE CO.      BELONG WINE CO.   \n",
       "2    CA-W-23498                         PERSON WINE LLC  PERSON WINE COMPANY   \n",
       "3     CA-W-2646                    GEORGE ALTAMURA, SR.      STRACK VINEYARD   \n",
       "4    CA-W-23687                HANABI LAGER COMPANY LLC      LANDLORD SAILOR   \n",
       "\n",
       "                   STREET        CITY STATE    ZIP COUNTY  \n",
       "0         1 CALIFORNIA DR  YOUNTVILLE    CA  94599   NAPA  \n",
       "1         1 EXECUTIVE WAY        NAPA    CA  94558   NAPA  \n",
       "2         1 EXECUTIVE WAY        NAPA    CA  94558   NAPA  \n",
       "3         1 EXECUTIVE WAY        NAPA    CA  94558   NAPA  \n",
       "4  1 EXECUTIVE WAY BLDG 1        NAPA    CA  94558   NAPA  "
      ],
      "text/html": "<div>\n<style scoped>\n    .dataframe tbody tr th:only-of-type {\n        vertical-align: middle;\n    }\n\n    .dataframe tbody tr th {\n        vertical-align: top;\n    }\n\n    .dataframe thead th {\n        text-align: right;\n    }\n</style>\n<table border=\"1\" class=\"dataframe\">\n  <thead>\n    <tr style=\"text-align: right;\">\n      <th></th>\n      <th>PERMIT NUMBER</th>\n      <th>OWNER NAME</th>\n      <th>OPERATING NAME</th>\n      <th>STREET</th>\n      <th>CITY</th>\n      <th>STATE</th>\n      <th>ZIP</th>\n      <th>COUNTY</th>\n    </tr>\n  </thead>\n  <tbody>\n    <tr>\n      <th>0</th>\n      <td>CA-W-685</td>\n      <td>DOMAINE CHANDON, INC.</td>\n      <td>DOMAINE CHANDON</td>\n      <td>1 CALIFORNIA DR</td>\n      <td>YOUNTVILLE</td>\n      <td>CA</td>\n      <td>94599</td>\n      <td>NAPA</td>\n    </tr>\n    <tr>\n      <th>1</th>\n      <td>CA-W-23853</td>\n      <td>VAN ZYL FAMILY LLC DBA BELONG WINE CO.</td>\n      <td>BELONG WINE CO.</td>\n      <td>1 EXECUTIVE WAY</td>\n      <td>NAPA</td>\n      <td>CA</td>\n      <td>94558</td>\n      <td>NAPA</td>\n    </tr>\n    <tr>\n      <th>2</th>\n      <td>CA-W-23498</td>\n      <td>PERSON WINE LLC</td>\n      <td>PERSON WINE COMPANY</td>\n      <td>1 EXECUTIVE WAY</td>\n      <td>NAPA</td>\n      <td>CA</td>\n      <td>94558</td>\n      <td>NAPA</td>\n    </tr>\n    <tr>\n      <th>3</th>\n      <td>CA-W-2646</td>\n      <td>GEORGE ALTAMURA, SR.</td>\n      <td>STRACK VINEYARD</td>\n      <td>1 EXECUTIVE WAY</td>\n      <td>NAPA</td>\n      <td>CA</td>\n      <td>94558</td>\n      <td>NAPA</td>\n    </tr>\n    <tr>\n      <th>4</th>\n      <td>CA-W-23687</td>\n      <td>HANABI LAGER COMPANY LLC</td>\n      <td>LANDLORD SAILOR</td>\n      <td>1 EXECUTIVE WAY BLDG 1</td>\n      <td>NAPA</td>\n      <td>CA</td>\n      <td>94558</td>\n      <td>NAPA</td>\n    </tr>\n  </tbody>\n</table>\n</div>"
     },
     "metadata": {},
     "execution_count": 3
    }
   ],
   "source": [
    "winery_data.head()"
   ]
  },
  {
   "cell_type": "code",
   "execution_count": 4,
   "metadata": {},
   "outputs": [
    {
     "output_type": "execute_result",
     "data": {
      "text/plain": [
       "     PERMIT NUMBER              OWNER NAME            OPERATING NAME  \\\n",
       "4061    CA-W-17697  MARTIN ARMSTRONG, INC.  TABER RANCH EVENT CENTER   \n",
       "4062    CA-W-15575  WILD HEART WINERY, LLC         WILD HEART WINERY   \n",
       "\n",
       "                     STREET   CITY STATE    ZIP       COUNTY Latitude  \\\n",
       "4061           NOT PROVIDED  CAPAY    CA  95607         YOLO            \n",
       "4062  TWO WEST LOCKEFORD ST   LODI    CA  95240  SAN JOAQUIN            \n",
       "\n",
       "     Longitude  \n",
       "4061            \n",
       "4062            "
      ],
      "text/html": "<div>\n<style scoped>\n    .dataframe tbody tr th:only-of-type {\n        vertical-align: middle;\n    }\n\n    .dataframe tbody tr th {\n        vertical-align: top;\n    }\n\n    .dataframe thead th {\n        text-align: right;\n    }\n</style>\n<table border=\"1\" class=\"dataframe\">\n  <thead>\n    <tr style=\"text-align: right;\">\n      <th></th>\n      <th>PERMIT NUMBER</th>\n      <th>OWNER NAME</th>\n      <th>OPERATING NAME</th>\n      <th>STREET</th>\n      <th>CITY</th>\n      <th>STATE</th>\n      <th>ZIP</th>\n      <th>COUNTY</th>\n      <th>Latitude</th>\n      <th>Longitude</th>\n    </tr>\n  </thead>\n  <tbody>\n    <tr>\n      <th>4061</th>\n      <td>CA-W-17697</td>\n      <td>MARTIN ARMSTRONG, INC.</td>\n      <td>TABER RANCH EVENT CENTER</td>\n      <td>NOT PROVIDED</td>\n      <td>CAPAY</td>\n      <td>CA</td>\n      <td>95607</td>\n      <td>YOLO</td>\n      <td></td>\n      <td></td>\n    </tr>\n    <tr>\n      <th>4062</th>\n      <td>CA-W-15575</td>\n      <td>WILD HEART WINERY, LLC</td>\n      <td>WILD HEART WINERY</td>\n      <td>TWO WEST LOCKEFORD ST</td>\n      <td>LODI</td>\n      <td>CA</td>\n      <td>95240</td>\n      <td>SAN JOAQUIN</td>\n      <td></td>\n      <td></td>\n    </tr>\n  </tbody>\n</table>\n</div>"
     },
     "metadata": {},
     "execution_count": 4
    }
   ],
   "source": [
    "# Part 1 set up to look up geocoordinates by adding slots\n",
    "winery_data['Latitude'] = \"\"\n",
    "winery_data['Longitude'] = \"\"\n",
    "winery_data.tail(2)"
   ]
  },
  {
   "cell_type": "code",
   "execution_count": 5,
   "metadata": {
    "tags": []
   },
   "outputs": [],
   "source": [
    "for index, row in winery_data.iterrows():\n",
    "    # set up a parameters dictionary\n",
    "    \n",
    "    target_city = row.STREET + \" \" + row.CITY + \", \" + row.STATE + \" \" + row.ZIP\n",
    "    # print(target_city)\n",
    "    params = {\"address\": target_city, \"key\": gkey}\n",
    "    \n",
    "\n",
    "# base url\n",
    "    base_url = base_url = \"https://maps.googleapis.com/maps/api/geocode/json\"\n",
    "\n",
    "# run a request using our params dictionary\n",
    "    response = requests.get(base_url, params=params)\n",
    "    places_data = response.json()\n",
    "# trap any situations where no info returned\n",
    "    try:\n",
    "        winery_data.loc[index,'Latitude'] = places_data['results'][0]['geometry']['location']['lat']\n",
    "        winery_data.loc[index,'Longitude'] = places_data['results'][0]['geometry']['location']['lng']\n",
    "     \n",
    "    except (KeyError, IndexError):\n",
    "        # if a bad return we do not want this city data, so drop it from the file\n",
    "        print(f\"For winery: {winery_data.loc[index,'OPERATING NAME']}, Missing field/result... deleting.\")\n",
    "        ideal_cities.drop(index, inplace=True)\n",
    "    # print(f\"Target City: {target_city} Latitude: {winery_data.loc[index,'Latitude']} Longitude: {winery_data.loc[index,'Longitude']}\")\n",
    "    "
   ]
  },
  {
   "cell_type": "code",
   "execution_count": 6,
   "metadata": {},
   "outputs": [
    {
     "output_type": "execute_result",
     "data": {
      "text/plain": [
       "   PERMIT NUMBER                              OWNER NAME  \\\n",
       "0       CA-W-685                   DOMAINE CHANDON, INC.   \n",
       "1     CA-W-23853  VAN ZYL FAMILY LLC DBA BELONG WINE CO.   \n",
       "2     CA-W-23498                         PERSON WINE LLC   \n",
       "3      CA-W-2646                    GEORGE ALTAMURA, SR.   \n",
       "4     CA-W-23687                HANABI LAGER COMPANY LLC   \n",
       "..           ...                                     ...   \n",
       "95    CA-W-17645                             ARPENT, LLC   \n",
       "96    CA-W-16892                FILINI WINE COMPANY, LLC   \n",
       "97     CA-W-3222              MONTEREY WINE COMPANY, LLC   \n",
       "98    CA-W-23937                   WARROOM VENTURES, LLC   \n",
       "99    CA-W-21192                   WOMEN OF THE VINE LLC   \n",
       "\n",
       "                  OPERATING NAME                  STREET        CITY STATE  \\\n",
       "0                DOMAINE CHANDON         1 CALIFORNIA DR  YOUNTVILLE    CA   \n",
       "1                BELONG WINE CO.         1 EXECUTIVE WAY        NAPA    CA   \n",
       "2            PERSON WINE COMPANY         1 EXECUTIVE WAY        NAPA    CA   \n",
       "3                STRACK VINEYARD         1 EXECUTIVE WAY        NAPA    CA   \n",
       "4                LANDLORD SAILOR  1 EXECUTIVE WAY BLDG 1        NAPA    CA   \n",
       "..                           ...                     ...         ...   ...   \n",
       "95                     BIRICHINO     1010 INDUSTRIAL WAY   KING CITY    CA   \n",
       "96           FILINI WINE GROWERS     1010 INDUSTRIAL WAY   KING CITY    CA   \n",
       "97        MMONTEREY WINE COMPANY     1010 INDUSTRIAL WAY   KING CITY    CA   \n",
       "98               WARROOM CELLARS     1010 INDUSTRIAL WAY   KING CITY    CA   \n",
       "99  WOMEN OF THE VINE SELECTIONS     1010 INDUSTRIAL WAY   KING CITY    CA   \n",
       "\n",
       "      ZIP    COUNTY Latitude Longitude  \n",
       "0   94599      NAPA  38.3974  -122.365  \n",
       "1   94558      NAPA  38.2239  -122.257  \n",
       "2   94558      NAPA  38.2239  -122.257  \n",
       "3   94558      NAPA  38.2239  -122.257  \n",
       "4   94558      NAPA  38.2239  -122.257  \n",
       "..    ...       ...      ...       ...  \n",
       "95  93930  MONTEREY  36.2272  -121.112  \n",
       "96  93930  MONTEREY  36.2272  -121.112  \n",
       "97  93930  MONTEREY  36.2272  -121.112  \n",
       "98  93930       NaN  36.2272  -121.112  \n",
       "99  93930  MONTEREY  36.2272  -121.112  \n",
       "\n",
       "[100 rows x 10 columns]"
      ],
      "text/html": "<div>\n<style scoped>\n    .dataframe tbody tr th:only-of-type {\n        vertical-align: middle;\n    }\n\n    .dataframe tbody tr th {\n        vertical-align: top;\n    }\n\n    .dataframe thead th {\n        text-align: right;\n    }\n</style>\n<table border=\"1\" class=\"dataframe\">\n  <thead>\n    <tr style=\"text-align: right;\">\n      <th></th>\n      <th>PERMIT NUMBER</th>\n      <th>OWNER NAME</th>\n      <th>OPERATING NAME</th>\n      <th>STREET</th>\n      <th>CITY</th>\n      <th>STATE</th>\n      <th>ZIP</th>\n      <th>COUNTY</th>\n      <th>Latitude</th>\n      <th>Longitude</th>\n    </tr>\n  </thead>\n  <tbody>\n    <tr>\n      <th>0</th>\n      <td>CA-W-685</td>\n      <td>DOMAINE CHANDON, INC.</td>\n      <td>DOMAINE CHANDON</td>\n      <td>1 CALIFORNIA DR</td>\n      <td>YOUNTVILLE</td>\n      <td>CA</td>\n      <td>94599</td>\n      <td>NAPA</td>\n      <td>38.3974</td>\n      <td>-122.365</td>\n    </tr>\n    <tr>\n      <th>1</th>\n      <td>CA-W-23853</td>\n      <td>VAN ZYL FAMILY LLC DBA BELONG WINE CO.</td>\n      <td>BELONG WINE CO.</td>\n      <td>1 EXECUTIVE WAY</td>\n      <td>NAPA</td>\n      <td>CA</td>\n      <td>94558</td>\n      <td>NAPA</td>\n      <td>38.2239</td>\n      <td>-122.257</td>\n    </tr>\n    <tr>\n      <th>2</th>\n      <td>CA-W-23498</td>\n      <td>PERSON WINE LLC</td>\n      <td>PERSON WINE COMPANY</td>\n      <td>1 EXECUTIVE WAY</td>\n      <td>NAPA</td>\n      <td>CA</td>\n      <td>94558</td>\n      <td>NAPA</td>\n      <td>38.2239</td>\n      <td>-122.257</td>\n    </tr>\n    <tr>\n      <th>3</th>\n      <td>CA-W-2646</td>\n      <td>GEORGE ALTAMURA, SR.</td>\n      <td>STRACK VINEYARD</td>\n      <td>1 EXECUTIVE WAY</td>\n      <td>NAPA</td>\n      <td>CA</td>\n      <td>94558</td>\n      <td>NAPA</td>\n      <td>38.2239</td>\n      <td>-122.257</td>\n    </tr>\n    <tr>\n      <th>4</th>\n      <td>CA-W-23687</td>\n      <td>HANABI LAGER COMPANY LLC</td>\n      <td>LANDLORD SAILOR</td>\n      <td>1 EXECUTIVE WAY BLDG 1</td>\n      <td>NAPA</td>\n      <td>CA</td>\n      <td>94558</td>\n      <td>NAPA</td>\n      <td>38.2239</td>\n      <td>-122.257</td>\n    </tr>\n    <tr>\n      <th>...</th>\n      <td>...</td>\n      <td>...</td>\n      <td>...</td>\n      <td>...</td>\n      <td>...</td>\n      <td>...</td>\n      <td>...</td>\n      <td>...</td>\n      <td>...</td>\n      <td>...</td>\n    </tr>\n    <tr>\n      <th>95</th>\n      <td>CA-W-17645</td>\n      <td>ARPENT, LLC</td>\n      <td>BIRICHINO</td>\n      <td>1010 INDUSTRIAL WAY</td>\n      <td>KING CITY</td>\n      <td>CA</td>\n      <td>93930</td>\n      <td>MONTEREY</td>\n      <td>36.2272</td>\n      <td>-121.112</td>\n    </tr>\n    <tr>\n      <th>96</th>\n      <td>CA-W-16892</td>\n      <td>FILINI WINE COMPANY, LLC</td>\n      <td>FILINI WINE GROWERS</td>\n      <td>1010 INDUSTRIAL WAY</td>\n      <td>KING CITY</td>\n      <td>CA</td>\n      <td>93930</td>\n      <td>MONTEREY</td>\n      <td>36.2272</td>\n      <td>-121.112</td>\n    </tr>\n    <tr>\n      <th>97</th>\n      <td>CA-W-3222</td>\n      <td>MONTEREY WINE COMPANY, LLC</td>\n      <td>MMONTEREY WINE COMPANY</td>\n      <td>1010 INDUSTRIAL WAY</td>\n      <td>KING CITY</td>\n      <td>CA</td>\n      <td>93930</td>\n      <td>MONTEREY</td>\n      <td>36.2272</td>\n      <td>-121.112</td>\n    </tr>\n    <tr>\n      <th>98</th>\n      <td>CA-W-23937</td>\n      <td>WARROOM VENTURES, LLC</td>\n      <td>WARROOM CELLARS</td>\n      <td>1010 INDUSTRIAL WAY</td>\n      <td>KING CITY</td>\n      <td>CA</td>\n      <td>93930</td>\n      <td>NaN</td>\n      <td>36.2272</td>\n      <td>-121.112</td>\n    </tr>\n    <tr>\n      <th>99</th>\n      <td>CA-W-21192</td>\n      <td>WOMEN OF THE VINE LLC</td>\n      <td>WOMEN OF THE VINE SELECTIONS</td>\n      <td>1010 INDUSTRIAL WAY</td>\n      <td>KING CITY</td>\n      <td>CA</td>\n      <td>93930</td>\n      <td>MONTEREY</td>\n      <td>36.2272</td>\n      <td>-121.112</td>\n    </tr>\n  </tbody>\n</table>\n<p>100 rows × 10 columns</p>\n</div>"
     },
     "metadata": {},
     "execution_count": 6
    }
   ],
   "source": [
    "winery_data.head(100)"
   ]
  },
  {
   "cell_type": "code",
   "execution_count": 7,
   "metadata": {},
   "outputs": [],
   "source": [
    "# Set Path to the output file in the analysis folder\n",
    "Output_Data_Path_Folder = '../../../Data/csv/' \n",
    "DataFrame_File_CSV = 'Cal_Addr_All_Clean_Geo.csv'\n",
    "Output_CSV_Path = os.path.join(Output_Data_Path_Folder,DataFrame_File_CSV)\n",
    "\n",
    "# Open the data file with write capabilities\n",
    "winery_data.to_csv(Output_CSV_Path, index = False)"
   ]
  },
  {
   "cell_type": "code",
   "execution_count": null,
   "metadata": {},
   "outputs": [],
   "source": []
  }
 ],
 "metadata": {
  "kernelspec": {
   "name": "python3",
   "display_name": "Python 3.6.10 64-bit ('PythonData': conda)"
  },
  "language_info": {
   "codemirror_mode": {
    "name": "ipython",
    "version": 3
   },
   "file_extension": ".py",
   "mimetype": "text/x-python",
   "name": "python",
   "nbconvert_exporter": "python",
   "pygments_lexer": "ipython3",
   "version": "3.6.10"
  }
 },
 "nbformat": 4,
 "nbformat_minor": 4
}